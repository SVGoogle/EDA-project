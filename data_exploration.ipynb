{
 "cells": [
  {
   "cell_type": "markdown",
   "metadata": {},
   "source": [
    "# Air Quality Analyis of an Office Space\n",
    "By: Sandijs Vasilevskis [Email](sandijs.vasilevskis@gmail.com)\n",
    "\n",
    "For: MOBISTYLE Project\n",
    "[LINK](https://www.mobistyle-project.eu/en/mobistyle)\n",
    "[Documentation](https://data-analysis-mobistyle.readthedocs.io/en/latest/)\n",
    "[GitHub](https://github.com/SVGoogle/Data-Analysis-MOBISTYLE)\n",
    "\n",
    "\n",
    "## Table of Contents\n",
    "- [Introduction](#intro)\n",
    "- [Data Wrangling](#wrangling)\n",
    "- [Exploratory Data Analysis](#eda)\n",
    "- [Summary](#summary)"
   ]
  },
  {
   "cell_type": "markdown",
   "metadata": {},
   "source": [
    "<a id='intro'></a>\n",
    "# Introduction\n",
    "\n",
    "\n",
    "> This dataset contains of time series data with almost two year long indoor air quality meausurements of an office space in building of University of Ljublana (UL) in Slovenia, Europe."
   ]
  },
  {
   "cell_type": "markdown",
   "metadata": {},
   "source": [
    "## Plotting environment setup\n",
    "Choosing different colors to represent:\n",
    "* MOBISTYLE and BASELINE monitoring periods\n",
    "* Indoor air quality comfort category ranges"
   ]
  },
  {
   "cell_type": "code",
   "execution_count": 1,
   "metadata": {},
   "outputs": [
    {
     "name": "stderr",
     "output_type": "stream",
     "text": [
      "\n",
      "Bad key \"text.kerning_factor\" on line 4 in\n",
      "c:\\programdata\\anaconda3\\envs\\udacity\\lib\\site-packages\\matplotlib\\mpl-data\\stylelib\\_classic_test_patch.mplstyle.\n",
      "You probably need to get an updated matplotlibrc file from\n",
      "https://github.com/matplotlib/matplotlib/blob/v3.1.3/matplotlibrc.template\n",
      "or from the matplotlib source distribution\n"
     ]
    }
   ],
   "source": [
    "import numpy as np\n",
    "import pandas as pd\n",
    "import matplotlib.pyplot as plt\n",
    "import seaborn as sns\n",
    "\n",
    "sns.set_style(style='whitegrid', \n",
    "              rc={'figure.figsize': (11.7,8.27), 'xtick.major.size': 12, 'ytick.major.size': 12,\n",
    "             'font.size': 14, 'axes.titlesize': 14, 'axes.labelsize': 14})\n",
    "\n",
    "%matplotlib inline"
   ]
  },
  {
   "cell_type": "code",
   "execution_count": 3,
   "metadata": {},
   "outputs": [
    {
     "data": {
      "image/png": "[encoded data removed]",
      "text/plain": [
       "<Figure size 144x72 with 1 Axes>"
      ]
     },
     "metadata": {
      "needs_background": "light"
     },
     "output_type": "display_data"
    }
   ],
   "source": [
    "# Colors for plots\n",
    "current_pallete =  sns.color_palette()\n",
    "pallete = sns.color_palette().as_hex()\n",
    "\n",
    "# Hex codes for BASELINE and MOBISTYLE colors\n",
    "color_BL = '#1f77b4'\n",
    "color_MS = '#ff7f0e'\n",
    "color_other = '#2ca02c'\n",
    "color_out = '#7f7f7f'\n",
    "color_missing = 'lightgrey'\n",
    "\n",
    "# Plot Colors for BASELINE and MOBISTYLE\n",
    "sns.palplot([color_BL, color_MS])"
   ]
  },
  {
   "cell_type": "code",
   "execution_count": 9,
   "metadata": {},
   "outputs": [
    {
     "data": {
      "image/png": "[encoded data removed]",
      "text/plain": [
       "<Figure size 576x72 with 1 Axes>"
      ]
     },
     "metadata": {
      "needs_background": "light"
     },
     "output_type": "display_data"
    }
   ],
   "source": [
    "# Set bins and labels for Indoor environmental parameters\n",
    "# The bin ranges ar based on an European building design standard DS/EN 15251:2007\n",
    "bins_TEMP, bins_RH = [-10000, 19, 20, 21, 23, 24, 25, 10000], [-10000, 20, 25, 30, 50, 60, 70, 10000]\n",
    "bins_CO2, bins_VOC = [-10000, 750, 900, 1200, 10000], [-10000, 40, 80, 100, 10000]\n",
    "\n",
    "labels_T_RH = ['Cat -IV','Cat -III', 'Cat -II','Cat I', 'Cat +II','Cat +III','Cat +IV']\n",
    "labels_CO2_VOC = ['Cat I', 'Cat II', 'Cat III', 'Cat IV']\n",
    "\n",
    "# RGB codes for Comfort category colors\n",
    "cmap_T_RH = [(0, .33, .82), (0, .7, .82), (.5, .95, .75), (.3, .7, .4), (.6, .8, .4), (.95, .39, .4), (.8, .07, .25), 'lightgrey']\n",
    "cmap_CO2_VOC = [(.3, .7, .4), (.6, .8, .4), (.95, .39, .4), (.8, .07, .25), 'lightgrey']\n",
    "\n",
    "# Plot diverging color pallete for Temperature and relative humidity categories\n",
    "# Grey color for the missing data\n",
    "sns.palplot(cmap_T_RH)"
   ]
  },
  {
   "cell_type": "code",
   "execution_count": 5,
   "metadata": {},
   "outputs": [
    {
     "data": {
      "image/png": "[encoded data removed]",
      "text/plain": [
       "<Figure size 360x72 with 1 Axes>"
      ]
     },
     "metadata": {
      "needs_background": "light"
     },
     "output_type": "display_data"
    }
   ],
   "source": [
    "# Plot diverging color pallete for CO2 and VOC level categories\n",
    "# Grey color for the missing data\n",
    "sns.palplot(cmap_CO2_VOC)"
   ]
  },
  {
   "cell_type": "markdown",
   "metadata": {},
   "source": [
    "<a id='wrangling'></a>\n",
    "# Data Wrangling\n",
    "\n",
    "Before exploratory data analysis preliminary data wrangling was performed, see `'data_exploration.ipynb'` for further details.\n",
    "\n",
    "In this chapter the dataset is loaded and its variables are described in order to motivate data exploration goals.\n",
    "\n",
    "## Load Office Air Quality and Outdoor Climate Data"
   ]
  },
  {
   "cell_type": "code",
   "execution_count": 20,
   "metadata": {},
   "outputs": [
    {
     "name": "stdout",
     "output_type": "stream",
     "text": [
      "<class 'pandas.core.frame.DataFrame'>\n",
      "DatetimeIndex: 64128 entries, 2018-02-01 00:00:00 to 2019-11-30 23:45:00\n",
      "Data columns (total 16 columns):\n",
      " #   Column               Non-Null Count  Dtype   \n",
      "---  ------               --------------  -----   \n",
      " 0   Room_Status          63645 non-null  float64 \n",
      " 1   Window_State         63645 non-null  float64 \n",
      " 2   Window_State_Change  63636 non-null  float64 \n",
      " 3   CO2                  53819 non-null  float64 \n",
      " 4   RH                   53819 non-null  float64 \n",
      " 5   VOC                  53819 non-null  float64 \n",
      " 6   Temperature          64072 non-null  float64 \n",
      " 7   Monitoring_Period    64128 non-null  category\n",
      " 8   Category_TEMP        64072 non-null  category\n",
      " 9   Category_RH          53819 non-null  category\n",
      " 10  Category_CO2         53819 non-null  category\n",
      " 11  Category_VOC         53819 non-null  category\n",
      " 12  Outdoor_Temperature  64128 non-null  float64 \n",
      " 13  Outdoor_RH           64128 non-null  float64 \n",
      " 14  Global_radiation     64128 non-null  float64 \n",
      " 15  Diffuse_radiation    64128 non-null  float64 \n",
      "dtypes: category(5), float64(11)\n",
      "memory usage: 6.2 MB\n"
     ]
    }
   ],
   "source": [
    "# Assign categorical data types before readinf CSV file\n",
    "dtypes = {\n",
    "    'Monitoring_Period': 'category',\n",
    "    'HEAT_COOL': 'category',\n",
    "    'Category_TEMP': 'category',\n",
    "    'Category_RH': 'category',\n",
    "    'Category_CO2': 'category',\n",
    "    'Category_VOC': 'category',\n",
    "}\n",
    "\n",
    "# read CSV file\n",
    "data = (pd.read_csv('./Files/office_air_quality_data.csv',                    \n",
    "                    parse_dates=True,\n",
    "                    dtype=dtypes,\n",
    "                    index_col='Timestamp')\n",
    "       )\n",
    "data.info()"
   ]
  },
  {
   "cell_type": "markdown",
   "metadata": {},
   "source": []
  },
  {
   "cell_type": "code",
   "execution_count": null,
   "metadata": {},
   "outputs": [],
   "source": []
  },
  {
   "cell_type": "markdown",
   "metadata": {},
   "source": [
    "### What is the structure of the dataset?\n",
    "\n",
    "> Almost 2 year long time series data with 15 minutes observation interval.\n",
    "\n",
    "> This data can further be divided into two monitoring periods, denominated as:\n",
    "* `'BASELINE'` - First year of the monitoring to get reference data on the specific office space (with no interventions).\n",
    "* `'MOBISTYLE'` - Second year of the monitoring, when employees are given a mobile app and sensors with LED lights signaling a bad air quality in the office room. \n",
    "\n",
    "\n",
    "### What kind of variable types are present?\n",
    "**Dataset** contains indoor and outdoor air parameter measurements, window opening state and data on if the employees are present at the office, temperature setpoint regulation, heating and cooling valve operation.\n",
    "\n",
    "**Continuous variables**\n",
    "\n",
    "**Categorical Variables**\n",
    "\n",
    "\n",
    "\n",
    "### What is the research question?\n",
    "> **The alternative hypothesis for this project is that the employee use of mobile app and installing sensors with LED lights (that signalize high CO2 levels) would improve the air quality in the office, and would also urge the employees to open the windows more often and keep them open for a longer period of time than before.**\n",
    "\n",
    "### What is/are the main feature(s) of interest in your dataset?\n",
    "\n",
    "> Main interest of this dataset is to investigate if during the second monitoring period, denominated as `'MOBISTYLE'` the:\n",
    "1. **Indoor Air Quality** (IAQ) parameters like temperature, relative humidity, carbon dioxide and volatile orgonaic compound levels have improved\n",
    "2. **Window use** of the office has increased, namely if eployees open the windows more frequently and keep windows open for a longer period of time compared to the 'BASELINE'\n",
    "\n",
    "### What features in the dataset do you think will help support your investigation into your feature(s) of interest?\n",
    "\n",
    "> Comparison of IAQ parameter distribution between both monitoring periods. Estimate indoor air parameter correlation with outdoor climate measurements. It is important to compare the outdoor climate difference between `'MOBISTYLE'` and `'BASELINE'`, because one measurement year could have been warmer/or colder than the other and thus have an impact to the data comparison. Also take into account the seasonality of the monitoring data by dividing the data into - Heating and Cooling seasons."
   ]
  },
  {
   "cell_type": "markdown",
   "metadata": {},
   "source": [
    "<a id='eda'></a>\n",
    "# Exploratory Data Analysis\n",
    "\n",
    "As this is a time series dataset, it may be hard to evaluate the improvements by comparing raw 15 minute values.\n",
    "\n",
    "Therefore, the investigation of the air quality parameters will be performed by increasing the  from original to monthly, seasonal (heating, cooling) and whole monitoring period (MOBISTYLE, BASELINE) comparions."
   ]
  },
  {
   "cell_type": "markdown",
   "metadata": {},
   "source": [
    "## Univariate Exploration\n",
    "### 15  minutes data\n",
    "> In this section, investigate distributions of individual variables. If\n",
    "you see unusual points or outliers, take a deeper look to clean things up\n",
    "and prepare yourself to look at relationships between variables."
   ]
  },
  {
   "cell_type": "code",
   "execution_count": null,
   "metadata": {},
   "outputs": [],
   "source": []
  },
  {
   "cell_type": "code",
   "execution_count": 21,
   "metadata": {},
   "outputs": [
    {
     "data": {
      "image/png": "[encoded data removed]",
      "text/plain": [
       "<Figure size 842.4x288 with 1 Axes>"
      ]
     },
     "metadata": {
      "needs_background": "light"
     },
     "output_type": "display_data"
    }
   ],
   "source": [
    "fig, ax = plt.subplots(figsize=(11.7, 4))\n",
    "\n",
    "sns.boxplot(data=data, x=data.index.month, y='Outdoor_Temperature', hue='Monitoring_Period', showfliers=False, palette=[color_BL, color_MS], ax=ax)\n",
    "ax.tick_params(axis='both', which='major', labelsize=14)\n",
    "ax.legend(fontsize=14)\n",
    "ax.xaxis.grid(True)\n",
    "        \n",
    "ax.set_title('Outdoor air temperature. Slovenia, Ljubljana (Bežigrad)', fontsize=14)\n",
    "ax.set_ylabel('[$^o$C]', fontsize=14)\n",
    "ax.set_xlabel('', fontsize=14)\n",
    "ax.set_xticklabels(pd.date_range(start='2018-1-1', periods=12, freq='MS').strftime('%b'), rotation=0)\n",
    "ax.set(yticks=[-10, 0, 10, 20, 30], ylim=(-15,40))\n",
    "\n",
    "fig.tight_layout()"
   ]
  },
  {
   "cell_type": "markdown",
   "metadata": {},
   "source": [
    "> Make sure that, after every plot or related series of plots, that you\n",
    "include a Markdown cell with comments about what you observed, and what\n",
    "you plan on investigating next."
   ]
  },
  {
   "cell_type": "code",
   "execution_count": null,
   "metadata": {},
   "outputs": [],
   "source": []
  },
  {
   "cell_type": "markdown",
   "metadata": {},
   "source": [
    "### Discuss the distribution(s) of your variable(s) of interest. Were there any unusual points? Did you need to perform any transformations?\n",
    "\n",
    "> Your answer here!\n",
    "\n",
    "### Of the features you investigated, were there any unusual distributions? Did you perform any operations on the data to tidy, adjust, or change the form of the data? If so, why did you do this?\n",
    "\n",
    "> Your answer here!"
   ]
  },
  {
   "cell_type": "markdown",
   "metadata": {},
   "source": [
    "## Bivariate Exploration\n",
    "\n",
    "> In this section, investigate relationships between pairs of variables in your\n",
    "data. Make sure the variables that you cover here have been introduced in some\n",
    "fashion in the previous section (univariate exploration)."
   ]
  },
  {
   "cell_type": "code",
   "execution_count": null,
   "metadata": {},
   "outputs": [],
   "source": []
  },
  {
   "cell_type": "markdown",
   "metadata": {},
   "source": [
    "### Talk about some of the relationships you observed in this part of the investigation. How did the feature(s) of interest vary with other features in the dataset?\n",
    "\n",
    "> Your answer here!\n",
    "\n",
    "### Did you observe any interesting relationships between the other features (not the main feature(s) of interest)?\n",
    "\n",
    "> Your answer here!"
   ]
  },
  {
   "cell_type": "markdown",
   "metadata": {},
   "source": [
    "## Multivariate Exploration\n",
    "\n",
    "> Create plots of three or more variables to investigate your data even\n",
    "further. Make sure that your investigations are justified, and follow from\n",
    "your work in the previous sections."
   ]
  },
  {
   "cell_type": "code",
   "execution_count": null,
   "metadata": {},
   "outputs": [],
   "source": []
  },
  {
   "cell_type": "markdown",
   "metadata": {},
   "source": [
    "<a id='summary'></a>\n",
    "# Summary"
   ]
  },
  {
   "cell_type": "markdown",
   "metadata": {},
   "source": [
    "### Talk about some of the relationships you observed in this part of the investigation. Were there features that strengthened each other in terms of looking at your feature(s) of interest?\n",
    "\n",
    "> Your answer here!\n",
    "\n",
    "### Were there any interesting or surprising interactions between features?\n",
    "\n",
    "> Your answer here!"
   ]
  },
  {
   "cell_type": "markdown",
   "metadata": {},
   "source": [
    "> At the end of your report, make sure that you export the notebook as an\n",
    "html file from the `File > Download as... > HTML` menu. Make sure you keep\n",
    "track of where the exported file goes, so you can put it in the same folder\n",
    "as this notebook for project submission. Also, make sure you remove all of\n",
    "the quote-formatted guide notes like this one before you finish your report!"
   ]
  },
  {
   "cell_type": "code",
   "execution_count": null,
   "metadata": {},
   "outputs": [],
   "source": []
  }
 ],
 "metadata": {
  "kernelspec": {
   "display_name": "Python 3",
   "language": "python",
   "name": "python3"
  },
  "language_info": {
   "codemirror_mode": {
    "name": "ipython",
    "version": 3
   },
   "file_extension": ".py",
   "mimetype": "text/x-python",
   "name": "python",
   "nbconvert_exporter": "python",
   "pygments_lexer": "ipython3",
   "version": "3.7.7"
  }
 },
 "nbformat": 4,
 "nbformat_minor": 2
}
