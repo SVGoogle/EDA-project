{
 "cells": [
  {
   "cell_type": "markdown",
   "metadata": {},
   "source": [
    "# Air Quality Analyis of an Office Space\n",
    "By: Sandijs Vasilevskis [Email](sandijs.vasilevskis@gmail.com)\n",
    "\n",
    "For: MOBISTYLE Project\n",
    "[LINK](https://www.mobistyle-project.eu/en/mobistyle)\n",
    "[Documentation](https://data-analysis-mobistyle.readthedocs.io/en/latest/)\n",
    "[GitHub](https://github.com/SVGoogle/Data-Analysis-MOBISTYLE)\n",
    "\n",
    "\n",
    "## Table of Contents\n",
    "- [Introduction](#intro)\n",
    "- [Data Wrangling](#wrangling)\n",
    "- [Exploratory Data Analysis](#eda)\n",
    "- [Summary](#summary)"
   ]
  },
  {
   "cell_type": "markdown",
   "metadata": {},
   "source": [
    "<a id='intro'></a>\n",
    "# Introduction\n",
    "\n",
    "\n",
    "> This dataset contains of time series data with almost two year long indoor air quality meausurements of an office space in building of University of Ljublana (UL) in Slovenia, Europe."
   ]
  },
  {
   "cell_type": "markdown",
   "metadata": {},
   "source": [
    "## Plotting environment setup\n",
    "Choosing different colors to represent:\n",
    "* MOBISTYLE and BASELINE monitoring periods\n",
    "* Indoor air quality comfort catgeory ranges"
   ]
  },
  {
   "cell_type": "code",
   "execution_count": 14,
   "metadata": {},
   "outputs": [],
   "source": [
    "import numpy as np\n",
    "import pandas as pd\n",
    "import matplotlib.pyplot as plt\n",
    "import seaborn as sns\n",
    "\n",
    "sns.set_style(style='whitegrid', \n",
    "              rc={'figure.figsize': (11.7,8.27), 'xtick.major.size': 12, 'ytick.major.size': 12,\n",
    "             'font.size': 14, 'axes.titlesize': 14, 'axes.labelsize': 14})\n",
    "\n",
    "%matplotlib inline"
   ]
  },
  {
   "cell_type": "code",
   "execution_count": 16,
   "metadata": {},
   "outputs": [],
   "source": [
    "# Set bins and labels\n",
    "bins_TEMP, bins_RH = [-10000, 19, 20, 21, 23, 24, 25, 10000], [-10000, 20, 25, 30, 50, 60, 70, 10000]\n",
    "bins_CO2, bins_VOC = [-10000, 750, 900, 1200, 10000], [-10000, 40, 80, 100, 10000]\n",
    "\n",
    "labels_T_RH = ['Cat -IV','Cat -III', 'Cat -II','Cat I', 'Cat +II','Cat +III','Cat +IV']\n",
    "labels_CO2_VOC = ['Cat I', 'Cat II', 'Cat III', 'Cat IV']\n",
    "\n",
    "# RGB codes for Comfort category colors\n",
    "cmap_T_RH = [(0, .33, .82), (0, .7, .82), (.5, .95, .75), (.3, .7, .4), (.6, .8, .4), (.95, .39, .4), (.8, .07, .25), 'lightgrey']\n",
    "cmap_CO2_VOC = [(.3, .7, .4), (.6, .8, .4), (.95, .39, .4), (.8, .07, .25), 'lightgrey']\n",
    "\n",
    "# Colors for plots\n",
    "current_pallete =  sns.color_palette()\n",
    "pallete = sns.color_palette().as_hex()\n",
    "\n",
    "# Hex codes for Mobistyle and Baseline colors\n",
    "color_BL = '#1f77b4'\n",
    "color_MS = '#ff7f0e'\n",
    "color_other = '#2ca02c'\n",
    "color_out = '#7f7f7f'\n",
    "color_missing = 'lightgrey'"
   ]
  },
  {
   "cell_type": "markdown",
   "metadata": {},
   "source": [
    "> Load in your dataset and describe its properties through the questions below.\n",
    "Try and motivate your exploration goals through this section."
   ]
  },
  {
   "cell_type": "markdown",
   "metadata": {},
   "source": [
    "<a id='wrangling'></a>\n",
    "# Data Wrangling\n",
    "\n",
    "Combine the data from office measurements with the outdoor air station data.\n",
    "\n",
    "## Load Office Air Quality Data"
   ]
  },
  {
   "cell_type": "code",
   "execution_count": 12,
   "metadata": {},
   "outputs": [
    {
     "name": "stdout",
     "output_type": "stream",
     "text": [
      "<class 'pandas.core.frame.DataFrame'>\n",
      "DatetimeIndex: 70080 entries, 2018-02-01 00:00:00 to 2020-01-31 23:45:00\n",
      "Data columns (total 14 columns):\n",
      " #   Column                   Non-Null Count  Dtype   \n",
      "---  ------                   --------------  -----   \n",
      " 0   R3N0808_OCC              63785 non-null  float64 \n",
      " 1   R3N0808_WINDOW           63785 non-null  float64 \n",
      " 2   R3N0808_WINDOW_Openings  63776 non-null  float64 \n",
      " 3   R3N0808_INAP_co2         53819 non-null  float64 \n",
      " 4   R3N0808_INAP_humidity    53819 non-null  float64 \n",
      " 5   R3N0808_INAP_voc         53819 non-null  float64 \n",
      " 6   R3N0808_TEMP             64212 non-null  float64 \n",
      " 7   Monitoring_Period        70080 non-null  category\n",
      " 8   LED                      35136 non-null  category\n",
      " 9   App                      24192 non-null  category\n",
      " 10  Category_TEMP            64212 non-null  category\n",
      " 11  Category_RH              53819 non-null  category\n",
      " 12  Category_CO2             53819 non-null  category\n",
      " 13  Category_VOC             53819 non-null  category\n",
      "dtypes: category(7), float64(7)\n",
      "memory usage: 4.7 MB\n"
     ]
    }
   ],
   "source": [
    "# Select columns to load for the analysis\n",
    "load_columns = list(\n",
    "    ['R3N0808_OCC', 'R3N0808_WINDOW', 'R3N0808_WINDOW_Openings',\n",
    "     'R3N0808_INAP_co2', 'R3N0808_INAP_humidity', 'R3N0808_INAP_voc', \n",
    "     'R3N0808_TEMP','LED', 'App', 'Monitoring_Period', \n",
    "     'Category_TEMP', 'Category_RH', 'Category_CO2', 'Category_VOC',\n",
    "     'Timestamp'\n",
    "    ])\n",
    "\n",
    "# Assign categorical data types\n",
    "dtypes = {\n",
    "    'LED': 'category',\n",
    "    'App': 'category',\n",
    "    'Monitoring_Period': 'category',\n",
    "    'HEAT_COOL': 'category',\n",
    "    'Category_TEMP': 'category',\n",
    "    'Category_RH': 'category',\n",
    "    'Category_CO2': 'category',\n",
    "    'Category_VOC': 'category',\n",
    "}\n",
    "\n",
    "data = (pd.read_csv(\n",
    "    f'./Files/COMBINED_files/COMBINED_R3N0808.csv',\n",
    "    usecols=load_columns,\n",
    "    dtype=dtypes,\n",
    "    parse_dates=True,\n",
    "    index_col='Timestamp')\n",
    "       )\n",
    "data.info()"
   ]
  },
  {
   "cell_type": "markdown",
   "metadata": {},
   "source": [
    "### Load Outdoor Climate data"
   ]
  },
  {
   "cell_type": "code",
   "execution_count": 11,
   "metadata": {},
   "outputs": [
    {
     "name": "stdout",
     "output_type": "stream",
     "text": [
      "<class 'pandas.core.frame.DataFrame'>\n",
      "DatetimeIndex: 67104 entries, 2018-01-01 00:00:00 to 2019-11-30 23:45:00\n",
      "Data columns (total 5 columns):\n",
      " #   Column               Non-Null Count  Dtype  \n",
      "---  ------               --------------  -----  \n",
      " 0   Outdoor_temperature  67104 non-null  float64\n",
      " 1   Outdoor_RH           67104 non-null  float64\n",
      " 2   Global radiation     67104 non-null  float64\n",
      " 3   Diffuse radiation    67104 non-null  float64\n",
      " 4   Monitoring_Period    64128 non-null  object \n",
      "dtypes: float64(4), object(1)\n",
      "memory usage: 5.6+ MB\n"
     ]
    }
   ],
   "source": [
    "outdoor_data = (pd.read_csv('./Files/OUTDOOR_files/outdoor_data.csv', \n",
    "                            parse_dates=True, \n",
    "                            index_col='Timestamp')\n",
    "               .rename(columns={'RH': 'Outdoor_RH', \n",
    "                                'WEATHERS_TEMP': 'Outdoor_temperature'})\n",
    "               )\n",
    "\n",
    "BL_start, BL_end = '2018-02-1', '2019-02-1'\n",
    "MS_start, MS_end = '2019-02-1', '2020-02-1'\n",
    "\n",
    "outdoor_data.loc[BL_start : BL_end, 'Monitoring_Period'] = 'BASELINE'\n",
    "outdoor_data.loc[MS_start : MS_end, 'Monitoring_Period'] = 'MOBISTYLE'\n",
    "outdoor_data.info()"
   ]
  },
  {
   "cell_type": "markdown",
   "metadata": {},
   "source": [
    "### Combine data"
   ]
  },
  {
   "cell_type": "code",
   "execution_count": null,
   "metadata": {},
   "outputs": [],
   "source": []
  },
  {
   "cell_type": "code",
   "execution_count": 18,
   "metadata": {},
   "outputs": [
    {
     "data": {
      "image/png": "[encoded data removed]",
      "text/plain": [
       "<Figure size 842.4x288 with 1 Axes>"
      ]
     },
     "metadata": {
      "needs_background": "light"
     },
     "output_type": "display_data"
    }
   ],
   "source": [
    "fig, ax = plt.subplots(figsize=(11.7, 4))\n",
    "\n",
    "sns.boxplot(data=outdoor_data, x=outdoor_data.index.month, y='Outdoor_temperature', hue='Monitoring_Period', showfliers=False, palette=[color_BL, color_MS], ax=ax)\n",
    "ax.tick_params(axis='both', which='major', labelsize=14)\n",
    "ax.legend(fontsize=14)\n",
    "ax.xaxis.grid(True)\n",
    "        \n",
    "ax.set_title('Outdoor air temperature. Slovenia, Ljubljana (Bežigrad)', fontsize=14)\n",
    "ax.set_ylabel('[$^o$C]', fontsize=14)\n",
    "ax.set_xlabel('', fontsize=14)\n",
    "ax.set_xticklabels(pd.date_range(start='2018-1-1', periods=12, freq='MS').strftime('%b'), rotation=0)\n",
    "ax.set(yticks=[-10, 0, 10, 20, 30], ylim=(-15,40))\n",
    "\n",
    "fig.tight_layout()"
   ]
  },
  {
   "cell_type": "markdown",
   "metadata": {},
   "source": [
    "### What is the structure of your dataset?\n",
    "\n",
    "> Your answer here!\n",
    "\n",
    "### What is/are the main feature(s) of interest in your dataset?\n",
    "\n",
    "> Your answer here!\n",
    "\n",
    "### What features in the dataset do you think will help support your investigation into your feature(s) of interest?\n",
    "\n",
    "> Your answer here!"
   ]
  },
  {
   "cell_type": "markdown",
   "metadata": {},
   "source": [
    "<a id='eda'></a>\n",
    "# Exploratory Data Analysis"
   ]
  },
  {
   "cell_type": "markdown",
   "metadata": {},
   "source": [
    "## Univariate Exploration\n",
    "\n",
    "> In this section, investigate distributions of individual variables. If\n",
    "you see unusual points or outliers, take a deeper look to clean things up\n",
    "and prepare yourself to look at relationships between variables."
   ]
  },
  {
   "cell_type": "code",
   "execution_count": null,
   "metadata": {},
   "outputs": [],
   "source": []
  },
  {
   "cell_type": "markdown",
   "metadata": {},
   "source": [
    "> Make sure that, after every plot or related series of plots, that you\n",
    "include a Markdown cell with comments about what you observed, and what\n",
    "you plan on investigating next."
   ]
  },
  {
   "cell_type": "code",
   "execution_count": null,
   "metadata": {},
   "outputs": [],
   "source": []
  },
  {
   "cell_type": "markdown",
   "metadata": {},
   "source": [
    "### Discuss the distribution(s) of your variable(s) of interest. Were there any unusual points? Did you need to perform any transformations?\n",
    "\n",
    "> Your answer here!\n",
    "\n",
    "### Of the features you investigated, were there any unusual distributions? Did you perform any operations on the data to tidy, adjust, or change the form of the data? If so, why did you do this?\n",
    "\n",
    "> Your answer here!"
   ]
  },
  {
   "cell_type": "markdown",
   "metadata": {},
   "source": [
    "## Bivariate Exploration\n",
    "\n",
    "> In this section, investigate relationships between pairs of variables in your\n",
    "data. Make sure the variables that you cover here have been introduced in some\n",
    "fashion in the previous section (univariate exploration)."
   ]
  },
  {
   "cell_type": "code",
   "execution_count": null,
   "metadata": {},
   "outputs": [],
   "source": []
  },
  {
   "cell_type": "markdown",
   "metadata": {},
   "source": [
    "### Talk about some of the relationships you observed in this part of the investigation. How did the feature(s) of interest vary with other features in the dataset?\n",
    "\n",
    "> Your answer here!\n",
    "\n",
    "### Did you observe any interesting relationships between the other features (not the main feature(s) of interest)?\n",
    "\n",
    "> Your answer here!"
   ]
  },
  {
   "cell_type": "markdown",
   "metadata": {},
   "source": [
    "## Multivariate Exploration\n",
    "\n",
    "> Create plots of three or more variables to investigate your data even\n",
    "further. Make sure that your investigations are justified, and follow from\n",
    "your work in the previous sections."
   ]
  },
  {
   "cell_type": "code",
   "execution_count": null,
   "metadata": {},
   "outputs": [],
   "source": []
  },
  {
   "cell_type": "markdown",
   "metadata": {},
   "source": [
    "<a id='summary'></a>\n",
    "# Summary"
   ]
  },
  {
   "cell_type": "markdown",
   "metadata": {},
   "source": [
    "### Talk about some of the relationships you observed in this part of the investigation. Were there features that strengthened each other in terms of looking at your feature(s) of interest?\n",
    "\n",
    "> Your answer here!\n",
    "\n",
    "### Were there any interesting or surprising interactions between features?\n",
    "\n",
    "> Your answer here!"
   ]
  },
  {
   "cell_type": "markdown",
   "metadata": {},
   "source": [
    "> At the end of your report, make sure that you export the notebook as an\n",
    "html file from the `File > Download as... > HTML` menu. Make sure you keep\n",
    "track of where the exported file goes, so you can put it in the same folder\n",
    "as this notebook for project submission. Also, make sure you remove all of\n",
    "the quote-formatted guide notes like this one before you finish your report!"
   ]
  },
  {
   "cell_type": "code",
   "execution_count": null,
   "metadata": {},
   "outputs": [],
   "source": []
  }
 ],
 "metadata": {
  "kernelspec": {
   "display_name": "Python 3",
   "language": "python",
   "name": "python3"
  },
  "language_info": {
   "codemirror_mode": {
    "name": "ipython",
    "version": 3
   },
   "file_extension": ".py",
   "mimetype": "text/x-python",
   "name": "python",
   "nbconvert_exporter": "python",
   "pygments_lexer": "ipython3",
   "version": "3.7.7"
  }
 },
 "nbformat": 4,
 "nbformat_minor": 2
}
