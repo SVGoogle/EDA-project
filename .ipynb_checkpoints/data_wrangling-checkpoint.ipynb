{
 "cells": [
  {
   "cell_type": "code",
   "execution_count": 1,
   "metadata": {},
   "outputs": [],
   "source": [
    "import numpy as np\n",
    "import pandas as pd"
   ]
  },
  {
   "cell_type": "markdown",
   "metadata": {},
   "source": [
    "# Data Wrangling\n",
    "\n",
    "In this Notebook the data from office measurements is combined with the outdoor air station data. Not all of the monitoring data is selected to limit the analysis scope.\n",
    "\n",
    "Afterwards, the Exploratory Data Analysis is performed on this dataset, see file `'data_exploration.ipynb'`.\n",
    "\n",
    "## Load Office Air Quality Data"
   ]
  },
  {
   "cell_type": "code",
   "execution_count": 6,
   "metadata": {},
   "outputs": [
    {
     "name": "stdout",
     "output_type": "stream",
     "text": [
      "<class 'pandas.core.frame.DataFrame'>\n",
      "DatetimeIndex: 70080 entries, 2018-02-01 00:00:00 to 2020-01-31 23:45:00\n",
      "Data columns (total 13 columns):\n",
      " #   Column               Non-Null Count  Dtype   \n",
      "---  ------               --------------  -----   \n",
      " 0   Room_Status          63785 non-null  float64 \n",
      " 1   Window_State         63785 non-null  float64 \n",
      " 2   Window_State_Change  63776 non-null  float64 \n",
      " 3   CO2                  53819 non-null  float64 \n",
      " 4   RH                   53819 non-null  float64 \n",
      " 5   VOC                  53819 non-null  float64 \n",
      " 6   Temperature          64212 non-null  float64 \n",
      " 7   Monitoring_Period    70080 non-null  category\n",
      " 8   Season               70080 non-null  category\n",
      " 9   Category_TEMP        64212 non-null  category\n",
      " 10  Category_RH          53819 non-null  category\n",
      " 11  Category_CO2         53819 non-null  category\n",
      " 12  Category_VOC         53819 non-null  category\n",
      "dtypes: category(6), float64(7)\n",
      "memory usage: 4.7 MB\n"
     ]
    }
   ],
   "source": [
    "# Select columns to load for the analysis\n",
    "load_columns = list(\n",
    "    ['R3N0808_OCC', 'R3N0808_WINDOW', 'R3N0808_WINDOW_Openings',\n",
    "     'R3N0808_INAP_co2', 'R3N0808_INAP_humidity', 'R3N0808_INAP_voc', \n",
    "     'R3N0808_TEMP', 'Monitoring_Period', 'HEAT_COOL', \n",
    "     'Category_TEMP', 'Category_RH', 'Category_CO2', 'Category_VOC',\n",
    "     'Timestamp'\n",
    "    ])\n",
    "\n",
    "# Assign categorical data types\n",
    "dtypes = {\n",
    "    'Monitoring_Period': 'category',\n",
    "    'HEAT_COOL': 'category',\n",
    "    'Category_TEMP': 'category',\n",
    "    'Category_RH': 'category',\n",
    "    'Category_CO2': 'category',\n",
    "    'Category_VOC': 'category',\n",
    "}\n",
    "# Read the CSV file\n",
    "data = (pd.read_csv(\n",
    "    f'./Files/COMBINED_files/COMBINED_R3N0808.csv',\n",
    "    usecols=load_columns,\n",
    "    dtype=dtypes,\n",
    "    parse_dates=True,\n",
    "    index_col='Timestamp')\n",
    "        .rename(columns={'R3N0808_OCC': 'Room_Status',\n",
    "                       'R3N0808_WINDOW': 'Window_State',\n",
    "                       'R3N0808_WINDOW_Openings': 'Window_State_Change',\n",
    "                       'R3N0808_INAP_co2': 'CO2',\n",
    "                       'R3N0808_INAP_humidity': 'RH',\n",
    "                       'R3N0808_INAP_voc': 'VOC',\n",
    "                       'R3N0808_TEMP': 'Temperature',\n",
    "                        'HEAT_COOL': 'Season'})\n",
    "       )\n",
    "data.info()"
   ]
  },
  {
   "cell_type": "markdown",
   "metadata": {},
   "source": [
    "## Load Outdoor Climate data"
   ]
  },
  {
   "cell_type": "code",
   "execution_count": 3,
   "metadata": {},
   "outputs": [
    {
     "name": "stdout",
     "output_type": "stream",
     "text": [
      "<class 'pandas.core.frame.DataFrame'>\n",
      "DatetimeIndex: 67104 entries, 2018-01-01 00:00:00 to 2019-11-30 23:45:00\n",
      "Data columns (total 4 columns):\n",
      " #   Column               Non-Null Count  Dtype  \n",
      "---  ------               --------------  -----  \n",
      " 0   Outdoor_Temperature  67104 non-null  float64\n",
      " 1   Outdoor_RH           67104 non-null  float64\n",
      " 2   Global_radiation     67104 non-null  float64\n",
      " 3   Diffuse_radiation    67104 non-null  float64\n",
      "dtypes: float64(4)\n",
      "memory usage: 2.6 MB\n"
     ]
    }
   ],
   "source": [
    "# read the CSV file\n",
    "outdoor_data = (pd.read_csv('./Files/OUTDOOR_files/outdoor_data.csv', \n",
    "                            parse_dates=True, \n",
    "                            index_col='Timestamp')\n",
    "               .rename(columns={'RH': 'Outdoor_RH', \n",
    "                                'WEATHERS_TEMP': 'Outdoor_Temperature',\n",
    "                               'Global radiation': 'Global_radiation',\n",
    "                               'Diffuse radiation': 'Diffuse_radiation'})\n",
    "               )\n",
    "outdoor_data.info()"
   ]
  },
  {
   "cell_type": "markdown",
   "metadata": {},
   "source": [
    "## Combine data"
   ]
  },
  {
   "cell_type": "code",
   "execution_count": 7,
   "metadata": {},
   "outputs": [
    {
     "name": "stdout",
     "output_type": "stream",
     "text": [
      "<class 'pandas.core.frame.DataFrame'>\n",
      "DatetimeIndex: 64128 entries, 2018-02-01 00:00:00 to 2019-11-30 23:45:00\n",
      "Data columns (total 17 columns):\n",
      " #   Column               Non-Null Count  Dtype   \n",
      "---  ------               --------------  -----   \n",
      " 0   Room_Status          63645 non-null  float64 \n",
      " 1   Window_State         63645 non-null  float64 \n",
      " 2   Window_State_Change  63636 non-null  float64 \n",
      " 3   CO2                  53819 non-null  float64 \n",
      " 4   RH                   53819 non-null  float64 \n",
      " 5   VOC                  53819 non-null  float64 \n",
      " 6   Temperature          64072 non-null  float64 \n",
      " 7   Monitoring_Period    64128 non-null  category\n",
      " 8   Season               64128 non-null  category\n",
      " 9   Category_TEMP        64072 non-null  category\n",
      " 10  Category_RH          53819 non-null  category\n",
      " 11  Category_CO2         53819 non-null  category\n",
      " 12  Category_VOC         53819 non-null  category\n",
      " 13  Outdoor_Temperature  64128 non-null  float64 \n",
      " 14  Outdoor_RH           64128 non-null  float64 \n",
      " 15  Global_radiation     64128 non-null  float64 \n",
      " 16  Diffuse_radiation    64128 non-null  float64 \n",
      "dtypes: category(6), float64(11)\n",
      "memory usage: 6.2 MB\n"
     ]
    }
   ],
   "source": [
    "# Join on Index and read only the available data from 2018-02 to 2019-11\n",
    "df = data.join(outdoor_data).loc['2018-02-1':'2019-11-30']\n",
    "df.info()"
   ]
  },
  {
   "cell_type": "code",
   "execution_count": 8,
   "metadata": {},
   "outputs": [],
   "source": [
    "# Save data as CSV file\n",
    "df.to_csv('./Files/office_air_quality_data.csv')"
   ]
  }
 ],
 "metadata": {
  "kernelspec": {
   "display_name": "Python 3",
   "language": "python",
   "name": "python3"
  },
  "language_info": {
   "codemirror_mode": {
    "name": "ipython",
    "version": 3
   },
   "file_extension": ".py",
   "mimetype": "text/x-python",
   "name": "python",
   "nbconvert_exporter": "python",
   "pygments_lexer": "ipython3",
   "version": "3.7.7"
  }
 },
 "nbformat": 4,
 "nbformat_minor": 4
}
